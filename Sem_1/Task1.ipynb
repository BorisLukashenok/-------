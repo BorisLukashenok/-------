{
 "cells": [
  {
   "cell_type": "code",
   "execution_count": 16,
   "metadata": {},
   "outputs": [],
   "source": [
    "from combinatoric import comb"
   ]
  },
  {
   "attachments": {},
   "cell_type": "markdown",
   "metadata": {},
   "source": [
    "В партии 10 деталей. Среди них 3 бракованные.  \n",
    "Какова вероятность, что среди 5, взятых на удачу, 4 хорошие детали?"
   ]
  },
  {
   "attachments": {},
   "cell_type": "markdown",
   "metadata": {},
   "source": [
    "Общее число исходов\n",
    "\n",
    "$n=C_{10}^5$\n",
    "\n",
    "Благоприятные\n",
    "\n",
    "$m=C_7^4*C^1_3$\n",
    "\n",
    "$P=\\frac{m}{n}$"
   ]
  },
  {
   "cell_type": "code",
   "execution_count": 17,
   "metadata": {},
   "outputs": [
    {
     "name": "stdout",
     "output_type": "stream",
     "text": [
      "0.42\n"
     ]
    }
   ],
   "source": [
    "print(f'{(comb(7,4)*comb(3,1))/comb(10,5):.2f}')"
   ]
  }
 ],
 "metadata": {
  "kernelspec": {
   "display_name": "Python 3",
   "language": "python",
   "name": "python3"
  },
  "language_info": {
   "codemirror_mode": {
    "name": "ipython",
    "version": 3
   },
   "file_extension": ".py",
   "mimetype": "text/x-python",
   "name": "python",
   "nbconvert_exporter": "python",
   "pygments_lexer": "ipython3",
   "version": "3.11.1"
  },
  "orig_nbformat": 4,
  "vscode": {
   "interpreter": {
    "hash": "867b719568835d2758971036323f4589e1a00f73e0a167b563d81825d1a5986e"
   }
  }
 },
 "nbformat": 4,
 "nbformat_minor": 2
}
