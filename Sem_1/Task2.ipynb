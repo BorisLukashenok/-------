{
 "cells": [
  {
   "cell_type": "code",
   "execution_count": null,
   "metadata": {},
   "outputs": [],
   "source": []
  },
  {
   "attachments": {},
   "cell_type": "markdown",
   "metadata": {},
   "source": [
    "Разработали спам-фильтр на основании часто встречающихся фраз.  \n",
    "70% всех писем – это спам.  \n",
    "В 10 % писем со спамом встречается фраза: «вся правда о» и в 0.5% она встречается в хороших письмах.    Какова вероятность, что пришедшее на почту письмо является спамом, если в нем есть данная фраза?"
   ]
  },
  {
   "attachments": {},
   "cell_type": "markdown",
   "metadata": {},
   "source": [
    "$P(B|A)=\\frac{P(A|B)*P(A)}{P(B)}$  \n",
    "P(A) = 70% = 0,7  \n",
    "P(A|B) = 10% = 0,1  \n",
    "P(B) = "
   ]
  },
  {
   "cell_type": "code",
   "execution_count": 1,
   "metadata": {},
   "outputs": [
    {
     "data": {
      "text/plain": [
       "0.0715"
      ]
     },
     "execution_count": 1,
     "metadata": {},
     "output_type": "execute_result"
    }
   ],
   "source": [
    "pa = 0.1 * 0.7 + 0.005 * (1 - 0.7)\n",
    "pa"
   ]
  },
  {
   "attachments": {},
   "cell_type": "markdown",
   "metadata": {},
   "source": [
    "P(B|A) ="
   ]
  },
  {
   "cell_type": "code",
   "execution_count": 3,
   "metadata": {},
   "outputs": [
    {
     "name": "stdout",
     "output_type": "stream",
     "text": [
      "97.90209790209789%\n"
     ]
    }
   ],
   "source": [
    "print(f'{((0.1*0.7)/pa*100)}%')"
   ]
  }
 ],
 "metadata": {
  "kernelspec": {
   "display_name": "Python 3",
   "language": "python",
   "name": "python3"
  },
  "language_info": {
   "codemirror_mode": {
    "name": "ipython",
    "version": 3
   },
   "file_extension": ".py",
   "mimetype": "text/x-python",
   "name": "python",
   "nbconvert_exporter": "python",
   "pygments_lexer": "ipython3",
   "version": "3.11.1"
  },
  "orig_nbformat": 4,
  "vscode": {
   "interpreter": {
    "hash": "867b719568835d2758971036323f4589e1a00f73e0a167b563d81825d1a5986e"
   }
  }
 },
 "nbformat": 4,
 "nbformat_minor": 2
}
